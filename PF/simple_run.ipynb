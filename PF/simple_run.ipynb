version https://git-lfs.github.com/spec/v1
oid sha256:6132ee56bb5b60cb252002952b2b7ea9202975864c2ac318c71ea17dc755ae27
size 61609
