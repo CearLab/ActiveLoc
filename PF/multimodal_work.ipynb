{
 "cells": [
  {
   "cell_type": "code",
   "execution_count": 33,
   "metadata": {},
   "outputs": [],
   "source": [
    "import matplotlib.pyplot as plt\n",
    "import matplotlib.animation as animation\n",
    "import numpy as np\n",
    "import pandas as pd\n",
    "import scipy.stats as stats\n",
    "import scipy.linalg as linalg\n",
    "import os\n",
    "import time\n",
    "from lib.ParticleFilter import sample_normal_model, single_step_particle_filter, normal_model_pdf, single_step_particle_filter_measurement_window\n",
    "from utils.plotting import draw_ellipse, images_to_gif\n",
    "from utils.filesTools import get_exp_folder\n",
    "from utils.notionConnector import add_experiment_to_notion\n",
    "from pathlib import Path\n",
    "import json\n",
    "NOTEBOOK_NAME = \"multimodal_work\""
   ]
  },
  {
   "cell_type": "markdown",
   "metadata": {},
   "source": [
    "# modeling \n",
    "here we can define all the parameters relevent to our system. \n",
    "\n",
    "__spacial cases:__\n",
    "- if we want a deterministic agent or beacon we can set his covariance to zero, this also need to be done in the particle initialization part \n",
    "\n",
    "\n"
   ]
  },
  {
   "cell_type": "code",
   "execution_count": 65,
   "metadata": {},
   "outputs": [],
   "source": [
    "## setup params\n",
    "NUM_OF_BEACONS = 2\n",
    "NUM_OF_AGENTS = 1\n",
    "STATE_SIZE_2D = 2\n",
    "SINGLE_RANGE_MEASUREMENT_SIZE = 1\n",
    "RANGE_MEASUREMENT_SIZE = NUM_OF_BEACONS * SINGLE_RANGE_MEASUREMENT_SIZE * NUM_OF_AGENTS\n",
    "TOTAL_STATE_SIZE = NUM_OF_AGENTS * STATE_SIZE_2D + NUM_OF_BEACONS * STATE_SIZE_2D\n",
    "sigma_transition_agent = 0.05\n",
    "sigma_transition_beacon = 0\n",
    "sigma_measurement = 0.1\n",
    "stepsize = 1\n",
    "n_steps = 50\n",
    "# model definition\n",
    "cov_measurement = np.diag([sigma_measurement**2 for i in range(RANGE_MEASUREMENT_SIZE)])\n",
    "cov_transition_agent = [sigma_transition_agent**2 for i in range(NUM_OF_AGENTS*STATE_SIZE_2D)]\n",
    "# cov_transition_agent = [0 for i in range(NUM_OF_AGENTS*STATE_SIZE_2D)]\n",
    "cov_transition_beacon = [sigma_transition_beacon**2 for i in range(NUM_OF_BEACONS*STATE_SIZE_2D)]\n",
    "# cov_transition_beacon = [0 for i in range(NUM_OF_BEACONS*STATE_SIZE_2D)]\n",
    "# cov_transition_beacon[0:6] = [sigma_transition_beacon**2]*6\n",
    "cov_transition = np.diag(cov_transition_agent + cov_transition_beacon)\n"
   ]
  },
  {
   "cell_type": "code",
   "execution_count": 66,
   "metadata": {},
   "outputs": [],
   "source": [
    "# convert all the setup params to a dictionary\n",
    "params_log = {k:v for k,v in locals().items() if k.isupper()}\n",
    "## add the covariances to the setup params\n",
    "params_log['cov_transition'] = cov_transition.flatten().tolist()\n",
    "params_log['cov_measurement'] = cov_measurement.flatten().tolist()\n",
    "params_log['n_steps'] = n_steps\n",
    "params_log['stepsize'] = stepsize\n",
    "params_log['sigma_transition_agent'] = sigma_transition_agent\n",
    "params_log['sigma_transition_beacon'] = sigma_transition_beacon"
   ]
  },
  {
   "cell_type": "markdown",
   "metadata": {},
   "source": [
    "## State Manager\n",
    "__not do be edited__ \n",
    "This section of the code is responsible for managing the state of the system, which includes the positions of agents and beacons in a 2D space.\n",
    "\n",
    "Here's a breakdown of the functions:\n",
    "\n",
    "- `get_agent_index(i)`: This function takes an agent's index `i` and returns a slice object that can be used to index into the state vector `x` to get the position of the agent.\n",
    "\n",
    "- `get_beacon_index(i)`: Similar to `get_agent_index`, this function takes a beacon's index `i` and returns a slice object that can be used to index into the state vector `x` to get the position of the beacon.\n",
    "\n",
    "- `get_agent_position(x, i)`: This function takes the state vector `x` and an agent's index `i`, and returns the position of the agent.\n",
    "\n",
    "- `get_beacon_position(x, i)`: This function takes the state vector `x` and a beacon's index `i`, and returns the position of the beacon.\n",
    "\n",
    "- `state_to_agent_and_beacons_pos(x)`: This function takes the state vector `x` and returns two arrays containing the positions of all agents and beacons, respectively.\n",
    "\n",
    "- `agent_and_beacons_pos_to_state(agents_pos, beacons_pos)`: This function takes two arrays containing the positions of all agents and beacons, respectively, and returns a state vector `x`.\n",
    "\n",
    "These functions are used to convert between the state vector representation and the separate agent and beacon position representations, which can be more convenient for certain calculations."
   ]
  },
  {
   "cell_type": "code",
   "execution_count": 67,
   "metadata": {},
   "outputs": [],
   "source": [
    "# state manger\n",
    "get_agent_index = lambda i: slice(i*STATE_SIZE_2D, i*STATE_SIZE_2D + STATE_SIZE_2D)\n",
    "get_beacon_index = lambda i: slice(STATE_SIZE_2D*NUM_OF_AGENTS + i*STATE_SIZE_2D, STATE_SIZE_2D*NUM_OF_AGENTS + i*STATE_SIZE_2D + STATE_SIZE_2D)\n",
    "get_agent_position = lambda x, i: x[get_agent_index(i)]\n",
    "get_beacon_postion = lambda x, j: x[get_beacon_index(j)]\n",
    "def state_to_agent_and_beacons_pos(x):\n",
    "    agents_pos = np.zeros((NUM_OF_AGENTS, STATE_SIZE_2D))\n",
    "    beacons_pos = np.zeros((NUM_OF_BEACONS, STATE_SIZE_2D))\n",
    "    for i in range(NUM_OF_AGENTS):\n",
    "        agents_pos[i] = get_agent_position(x, i)\n",
    "    for j in range(NUM_OF_BEACONS):\n",
    "        beacons_pos[j] = get_beacon_postion(x, j)\n",
    "    return agents_pos, beacons_pos\n",
    "def agent_and_beacons_pos_to_state(agents_pos, beacons_pos):\n",
    "    x = np.zeros(TOTAL_STATE_SIZE)\n",
    "    for i in range(NUM_OF_AGENTS):\n",
    "        x[get_agent_index(i)] = agents_pos[i]\n",
    "    for j in range(NUM_OF_BEACONS):\n",
    "        x[get_beacon_index(j)] = beacons_pos[j]\n",
    "    return x"
   ]
  },
  {
   "cell_type": "markdown",
   "metadata": {},
   "source": [
    "## State Propagation and Measurement Model\n",
    "\n",
    "This section of the code is responsible for propagating the state of the system and generating the measurement model.\n",
    "\n",
    "Here's a breakdown of the functions:\n",
    "\n",
    "- `propagate_state(x, u)`: This function propagates the state based on the control input `u` and a normal model. It adds a normally distributed noise with covariance `cov_transition` to the state `x`.\n",
    "\n",
    "- `calculate_true_range_meas(x)`: This function calculates the true range measurements. It calculates the Euclidean distance between each agent and each beacon. The state vector `x` contains the positions of the agents and beacons.\n",
    "\n",
    "- `measurements_model(x, cov = cov_measurement)`: This function generates the range measurements model. It adds a normally distributed noise with covariance `cov_measurement` to the true range measurements.\n",
    "\n",
    "- `measurements_likelihood(z, x)`: This function calculates the likelihood of the measurements `z` given the state `x`. It uses a normal probability density function with the true range measurements as the mean and the measurement covariance as the covariance.\n",
    "\n",
    "These functions are used to simulate the dynamics of the system and the measurements of the agents."
   ]
  },
  {
   "cell_type": "code",
   "execution_count": 68,
   "metadata": {},
   "outputs": [],
   "source": [
    "## model definition\n",
    "'''\n",
    "Function to propagate the state based on the control input and a normal model\n",
    "'''\n",
    "propagate_state_function = lambda x, u: x + sample_normal_model(u, cov_transition)\n",
    "\n",
    "\n",
    "def calculate_true_range_meas(x):\n",
    "    \"\"\"\n",
    "    Function to calculate the true range measurements.\n",
    "    It calculates the Euclidean distance between each agent and each beacon.\n",
    "    \"\"\"\n",
    "    z = np.zeros(RANGE_MEASUREMENT_SIZE)\n",
    "    for i in range(NUM_OF_AGENTS):\n",
    "        current_agent_position = x[get_agent_index(i)]\n",
    "        for j in range(NUM_OF_BEACONS):\n",
    "            current_beacon_position = x[get_beacon_index(j)]\n",
    "            z[i*NUM_OF_BEACONS + j] = np.linalg.norm(current_agent_position - current_beacon_position)\n",
    "    return z\n",
    "\n",
    "def measurements_model(x, cov = cov_measurement):\n",
    "    '''\n",
    "    Function to generate the range measurements model.\n",
    "    It adds a normally distributed noise to the true range measurements.\n",
    "    '''\n",
    "    return calculate_true_range_meas(x) + sample_normal_model(np.zeros(RANGE_MEASUREMENT_SIZE), cov)\n",
    "\n",
    "'''\n",
    "function to calculates the likelihood of the measurements given the state.\n",
    "It uses a normal probability density function with the true range measurements\n",
    "as the mean and the measurement covariance as the covariance\n",
    "'''\n",
    "measurements_likelihood = lambda z, x: normal_model_pdf(z, calculate_true_range_meas(x), cov_measurement)"
   ]
  },
  {
   "cell_type": "code",
   "execution_count": 69,
   "metadata": {
    "tags": [
     "parameters"
    ]
   },
   "outputs": [],
   "source": [
    "## test models and conversion functions\n",
    "if 0:\n",
    "    x = np.array([0, 0, 1, 0, 2, 0, 3, 0, 4, 0])*100\n",
    "    u = np.zeros(TOTAL_STATE_SIZE)\n",
    "    print(measurements_model(x))\n",
    "    print(propagate_state_function(x, u))\n",
    "## test conversion functions\n",
    "if 0:\n",
    "    x = np.array([0, 0, 1, 1, 2, 2, 3, 3, 4, 4])\n",
    "    agents_pos, beacons_pos = state_to_agent_and_beacons_pos(x)\n",
    "    print(agents_pos, beacons_pos)\n",
    "    print(agent_and_beacons_pos_to_state(agents_pos, beacons_pos))"
   ]
  },
  {
   "cell_type": "markdown",
   "metadata": {},
   "source": [
    "## Particle Filter Utils Functions\n",
    "\n",
    "This section of the code contains functions that are used in the implementation of a Particle Filter.\n",
    "\n",
    "Here's a breakdown of the functions:\n",
    "\n",
    "- `draw_frame(x, particles, frames_folder, i, ellipse = True)`: This function is used to draw a frame that visualizes the ground truth positions of the agents and beacons, as well as the particles representing the estimated positions. The frame is saved as a PNG image in the specified folder.\n",
    "\n",
    "- `calculate_mean_and_cov(particles)`: This function calculates the mean and covariance of the particles. These statistics are used to represent the estimated state of the system.\n",
    "\n",
    "- `save_ground_truth(x, z, exp_folder)`: This function saves the ground truth state and measurements to CSV files. This can be useful for later analysis and comparison with the estimated state and measurements.\n",
    "\n",
    "- `_save_current_particles(particles, exp_folder, i)`: This function saves the current particles to a CSV file. This can be useful for later analysis and visualization of the particle filter's operation.\n",
    "\n",
    "These functions are used to implement the particle filter, visualize its operation, and save the results for later analysis."
   ]
  },
  {
   "cell_type": "code",
   "execution_count": 70,
   "metadata": {},
   "outputs": [],
   "source": [
    "# pf Utils functions\n",
    "def draw_frame(x,particles,frames_folder,i,ellipse = True, show_now = False):\n",
    "    colors = ['r', 'g', 'b', 'y', 'm']\n",
    "    fig, ax = plt.subplots()\n",
    "    for j in range(NUM_OF_AGENTS):\n",
    "        agent_gt_pos = x[get_agent_index(j),i]\n",
    "        agent_particles = particles[:,get_agent_index(j)]\n",
    "        agent_color = colors[j]\n",
    "        ax.scatter(agent_gt_pos[0], agent_gt_pos[1], color = agent_color)\n",
    "        if ellipse:\n",
    "            draw_ellipse(ax, edgecolor = agent_color ,data = agent_particles)\n",
    "        else:\n",
    "            ax.scatter(agent_particles[:,0], agent_particles[:,1], c = agent_color, marker = 'x')\n",
    "            \n",
    "    for j in range(NUM_OF_BEACONS):\n",
    "        beacon_gt_pos = x[get_beacon_index(j),i]\n",
    "        beacon_particles = particles[:,get_beacon_index(j)]\n",
    "        beacon_color = colors[j+NUM_OF_AGENTS]\n",
    "        ax.scatter(beacon_gt_pos[0], beacon_gt_pos[1], color = beacon_color)\n",
    "        if ellipse:\n",
    "            draw_ellipse(ax, edgecolor= beacon_color ,data = beacon_particles)\n",
    "        else:\n",
    "            ax.scatter(beacon_particles[:,0], beacon_particles[:,1], c = beacon_color, marker = 'x')\n",
    "    \n",
    "    plt.xlim(-20, 20)\n",
    "    plt.ylim(-6, 50)\n",
    "    plt.title(f'frame {i}')\n",
    "    if show_now:\n",
    "        plt.show()\n",
    "    else:\n",
    "        plt.savefig(f'{frames_folder}/frame_{i}.png')\n",
    "    plt.close()\n",
    "    \n",
    "def calculate_mean_and_cov(particles):\n",
    "    mean = np.mean(particles, axis = 0)\n",
    "    cov = np.cov(particles.T).flatten()\n",
    "    return mean, cov\n",
    "\n",
    "def save_ground_truth(x, z, exp_folder):\n",
    "    pd.DataFrame(x).to_csv(f'{exp_folder}/ground_truth_state.csv')\n",
    "    pd.DataFrame(z).to_csv(f'{exp_folder}/ground_truth_measurement.csv')\n",
    "\n",
    "def save_current_particles(particles, exp_folder, i):\n",
    "    if not os.path.exists(exp_folder):\n",
    "        os.makedirs(exp_folder)\n",
    "    if not os.path.exists(f'{exp_folder}/particles'):\n",
    "        os.makedirs(f'{exp_folder}/particles')\n",
    "    pd.DataFrame(particles).to_csv(f'{exp_folder}/particles/particles_{i}.csv')\n"
   ]
  },
  {
   "cell_type": "markdown",
   "metadata": {},
   "source": [
    "## Ground Truth Generation\n",
    "\n",
    "This section of the code is responsible for generating the ground truth state and measurements of the system.\n",
    "\n",
    "Here's a breakdown of the code:\n",
    "\n",
    "- The initial positions of the agent and the beacons are defined.\n",
    "\n",
    "- The state vector `x_0` is initialized with these positions.\n",
    "\n",
    "- The control input `u` is generated. It is a random vector with values between `-0.5 * stepsize` and `0.5 * stepsize`. The control input for the agent and each beacon is generated separately.\n",
    "\n",
    "- The ground truth state `x` and measurements `z` are initialized with zeros. The first column of `x` is set to `x_0` and the first column of `z` is set to the measurements model of `x_0`.\n",
    "\n",
    "- A loop is used to propagate the state and generate the measurements for each time step. The `propagate_state` function is used to propagate the state based on the previous state and the control input. The `measurements_model` function is used to generate the measurements based on the current state.\n",
    "\n",
    "- An optional plot is included to visualize the ground truth state. The positions of the agent and each beacon are plotted over time.\n",
    "\n",
    "This section of the code is used to simulate the true dynamics of the system and generate the true measurements, which will be used to evaluate the performance of the particle filter."
   ]
  },
  {
   "cell_type": "code",
   "execution_count": 71,
   "metadata": {},
   "outputs": [
    {
     "data": {
      "image/png": "[encoded data removed]",
      "text/plain": [
       "<Figure size 640x480 with 1 Axes>"
      ]
     },
     "metadata": {},
     "output_type": "display_data"
    }
   ],
   "source": [
    "## generate ground truth\n",
    "agent_position_0 = np.array([2,0])\n",
    "becons_1_position_0 = np.array([0,5])\n",
    "becons_2_position_0 = np.array([0,-5])\n",
    "\n",
    "x_0 = agent_and_beacons_pos_to_state([agent_position_0], [becons_1_position_0, becons_2_position_0])\n",
    "\n",
    "#genrate u  commend vector\n",
    "u = np.zeros((TOTAL_STATE_SIZE, n_steps))\n",
    "\n",
    "u[get_agent_index(0),:] = np.array([0,1]).reshape(2,1)\n",
    "# u[get_agent_index(0),:] = (np.random.rand(STATE_SIZE_2D, n_steps) - 0.5) * stepsize\n",
    "# u[get_beacon_index(0),:] = (np.random.rand(STATE_SIZE_2D, n_steps) - 0.5) * stepsize/10\n",
    "# u[get_beacon_index(1),:] = (np.random.rand(STATE_SIZE_2D, n_steps) - 0.5) * stepsize/10\n",
    "# u[get_beacon_index(2),:] = (np.random.rand(STATE_SIZE_2D, n_steps) - 0.5) * stepsize/10\n",
    "# u[get_beacon_index(3),:] = (np.random.rand(STATE_SIZE_2D, n_steps) - 0.5) * stepsize/10\n",
    "## create ground truth\n",
    "x = np.zeros((TOTAL_STATE_SIZE, n_steps))\n",
    "x[:,0] = x_0\n",
    "z = np.zeros((RANGE_MEASUREMENT_SIZE, n_steps))\n",
    "z[:,0] = measurements_model(x[:,0])\n",
    "for i in range(1, n_steps):\n",
    "    x[:,i] = propagate_state_function(x[:,i-1], u[:,i-1])\n",
    "    z[:,i] = measurements_model(x[:,i])\n",
    "\n",
    "## plot ground truth\n",
    "if 1:\n",
    "    fig, ax = plt.subplots()\n",
    "    ax.plot(x[0,:], x[1,:], 'r')\n",
    "    ax.scatter(x[2,:], x[3,:], color = 'g')\n",
    "    ax.scatter(x[4,:], x[5,:], color = 'b')\n",
    "    # ax.plot(x[6,:], x[7,:], 'y')\n",
    "    # ax.plot(x[8,:], x[9,:], 'm')\n",
    "    plt.show()\n"
   ]
  },
  {
   "cell_type": "markdown",
   "metadata": {},
   "source": [
    "## Function: run_particle_filter_experiment\n",
    "\n",
    "This function runs a particle filter experiment and logs the results.\n",
    "\n",
    "Here's a breakdown of the function:\n",
    "\n",
    "- `note`: A string that describes the current experiment.\n",
    "\n",
    "- `n_steps`: The number of steps to run the particle filter.\n",
    "\n",
    "- `total_state_size`: The size of the state vector.\n",
    "\n",
    "- `x`: The ground truth state.\n",
    "\n",
    "- `u`: The control input.\n",
    "\n",
    "- `z`: The measurements.\n",
    "\n",
    "- `propagate_state_function`: A function that propagates the state based on the control input.\n",
    "\n",
    "- `measurements_likelihood_function`: A function that calculates the likelihood of the measurements given the state.\n",
    "\n",
    "- `resample_method`: The method used for resampling particles. Default is 'systematic'.\n",
    "\n",
    "- `save_particles`: A boolean that determines whether to save each frame of the particle filter's operation. Default is `False`.\n",
    "\n",
    "- `ellipse`: A boolean that determines whether to draw an ellipse around the particles. Default is `True`.\n",
    "\n",
    "The function runs the particle filter for `n_steps` steps, saves the particles and the ground truth state and measurements, and generates a GIF and CSV files of the results. It returns the mean log, covariance log, and the experiment folder."
   ]
  },
  {
   "cell_type": "code",
   "execution_count": 72,
   "metadata": {},
   "outputs": [],
   "source": [
    "def run_particle_filter_experiment(note,particles, n_steps, total_state_size, x, u, z, propagate_state_function, measurements_likelihood_function, params_log, resample_method='systematic', save_particles=False, ellipse=True):\n",
    "    exp_folder, frames_folder = get_exp_folder(note = note, notebook_name = NOTEBOOK_NAME)\n",
    "    mean_log = np.zeros((n_steps, total_state_size))\n",
    "    cov_log = np.zeros((n_steps, total_state_size**2))\n",
    "\n",
    "    for i in range(n_steps):\n",
    "        if 1:\n",
    "            draw_frame(x, particles, frames_folder, i, ellipse = ellipse)\n",
    "        if save_particles:\n",
    "            save_current_particles(particles, exp_folder, i)\n",
    "        \n",
    "        particles = single_step_particle_filter(particles, u[:,i], z[:,i], propagate_state_function, measurements_likelihood_function, resample_method = resample_method)\n",
    "        mean_log[i], cov_log[i] = calculate_mean_and_cov(particles)\n",
    "        print(f\"\\r{i}/{n_steps}\", end='', flush=True)\n",
    "    print('\\n')\n",
    "    if 1:\n",
    "        draw_frame(x, particles, frames_folder, i = n_steps - 1, ellipse = ellipse)\n",
    "    if save_particles:\n",
    "        save_current_particles(particles, exp_folder, i)\n",
    "    images_to_gif(frames_folder, f'{exp_folder}/particle_filter.gif')\n",
    "    pd.DataFrame(mean_log).to_csv(f'{exp_folder}/mean_log.csv', index = False, header = False)\n",
    "    pd.DataFrame(cov_log).to_csv(f'{exp_folder}/cov_log.csv', index = False, header = False)\n",
    "    save_ground_truth(x, z, exp_folder)\n",
    "    try:\n",
    "        path_ = Path(exp_folder)\n",
    "        folder_name = path_.name\n",
    "        params_log['resample_method'] = resample_method\n",
    "        \n",
    "        params_log['note'] = note\n",
    "        params_log['save_each_frame'] = save_particles\n",
    "        exp_data = {\"Name\": folder_name, \"Description\":note, \"folder path\": exp_folder, \"notebook\":NOTEBOOK_NAME, \"params\": json.dumps(params_log)}\n",
    "    \n",
    "        add_experiment_to_notion(exp_data)\n",
    "    except:\n",
    "        print('Failed to add experiment to notion')\n",
    "    return mean_log, cov_log, exp_folder, particles"
   ]
  },
  {
   "cell_type": "markdown",
   "metadata": {},
   "source": [
    "## Particle Filter Parameters and Initialization\n",
    "\n",
    "This section of the code is responsible for setting up the parameters for the particle filter and initializing the particles.\n",
    "\n",
    "Here's a breakdown of the code:\n",
    "\n",
    "- `NOTE`: A string that describes the current experiment.\n",
    "\n",
    "- `SAVE_EACH_FRAME`: A boolean that determines whether to save each frame of the particle filter's operation.\n",
    "\n",
    "- `n_particles`: The number of particles to use in the particle filter.\n",
    "\n",
    "- `particles`: The particles are initialized with random positions within a square of side length 15 centered at the origin. The agent's position is initialized at the origin.\n",
    "\n",
    "- `r`, `theta`, `beacons_pos_0`: These variables are used to initialize the positions of the beacons in a circle around the agent.\n",
    "\n",
    "- The commented out lines of code show alternative ways to initialize the positions of the beacons.\n",
    "\n",
    "- `save_current_particles`: This function is used to save the current particles. If `SAVE_EACH_FRAME` is `True`, it calls the `_save_current_particles` function to save the particles to a file. If `SAVE_EACH_FRAME` is `False`, it does nothing.\n",
    "\n",
    "This section of the code is used to set up the particle filter and initialize the particles, which represent the estimated state of the system."
   ]
  },
  {
   "cell_type": "code",
   "execution_count": 73,
   "metadata": {},
   "outputs": [
    {
     "name": "stdout",
     "output_type": "stream",
     "text": [
      "49/50\n",
      "\n",
      "gif saved to results\\20240518_multimodal_work\\exp_20240518_124034_multimodal case with 2 beacons and 1 agent - with noise/particle_filter.gif\n",
      "Experiment added successfully to notion!\n"
     ]
    }
   ],
   "source": [
    "\n",
    "## particle filter paerameters and initialization\n",
    "NOTE = 'multimodal case with 2 beacons and 1 agent - with noise'\n",
    "SAVE_EACH_FRAME = 1\n",
    "n_particles = 1000\n",
    "particles = (np.random.rand(n_particles, TOTAL_STATE_SIZE) - 0.5) * 10\n",
    "# particles[:,get_agent_index(0)] = np.zeros((n_particles, STATE_SIZE_2D))\n",
    "particles[:,get_beacon_index(0)] = becons_1_position_0\n",
    "particles[:,get_beacon_index(1)] = becons_2_position_0\n",
    "params_log['n_particles'] = n_particles\n",
    "# particles[:,get_agent_index(0)] = np.zeros((n_particles, STATE_SIZE_2D))\n",
    "# particles[:,get_beacon_index(0)] = particles[:,get_beacon_index(0)] + becons_1_position_0\n",
    "# particles[:,get_beacon_index(1)] = particles[:,get_beacon_index(1)] + becons_2_position_0\n",
    "# particles[:,get_beacon_index(2)] = particles[:,get_beacon_index(2)] + becons_3_position_0\n",
    "# particles[:,get_beacon_index(3)] = particles[:,get_beacon_index(3)] + becons_4_position_0\n",
    "#particles[:,get_beacon_index(2)] = np.zeros((n_particles, STATE_SIZE_2D)) + becons_3_position_0\n",
    "#particles[:,get_beacon_index(3)] = np.zeros((n_particles, STATE_SIZE_2D)) + becons_4_position_0\n",
    "(mean_log, cov_log, exp_folder, particles) = run_particle_filter_experiment(note = NOTE,\n",
    "                                                                            n_steps= n_steps,\n",
    "                                                                            particles = particles,\n",
    "                                                                            total_state_size = TOTAL_STATE_SIZE,\n",
    "                                                                            x = x,\n",
    "                                                                            u = u,\n",
    "                                                                            z = z,\n",
    "                                                                            propagate_state_function=propagate_state_function,\n",
    "                                                                            measurements_likelihood_function = measurements_likelihood,\n",
    "                                                                            params_log=params_log,\n",
    "                                                                            resample_method='systematic',\n",
    "                                                                            save_particles=SAVE_EACH_FRAME,\n",
    "                                                                            ellipse=False)"
   ]
  },
  {
   "cell_type": "code",
   "execution_count": 74,
   "metadata": {},
   "outputs": [
    {
     "data": {
      "image/png": "[encoded data removed]",
      "text/plain": [
       "<Figure size 640x480 with 1 Axes>"
      ]
     },
     "metadata": {},
     "output_type": "display_data"
    }
   ],
   "source": [
    "#load frame number 2\n",
    "frame_number = 2\n",
    "particles = pd.read_csv(f'{exp_folder}/particles/particles_{frame_number}.csv').to_numpy()\n",
    "particles = particles[:,1:]\n",
    "#plot it using the draw_frame function\n",
    "draw_frame(x, particles, exp_folder, frame_number, ellipse = False, show_now = True)"
   ]
  },
  {
   "cell_type": "code",
   "execution_count": 75,
   "metadata": {},
   "outputs": [
    {
     "name": "stdout",
     "output_type": "stream",
     "text": [
      "dip value: 0.041556100354145, p_value: 0.0\n"
     ]
    }
   ],
   "source": [
    "import diptest\n",
    "agent_pos = particles[:,get_agent_index(0)]\n",
    "agent_pos_x = agent_pos[:,0]\n",
    "dip_value, p_value = diptest.diptest(agent_pos_x)\n",
    "print(f'dip value: {dip_value}, p_value: {p_value}')"
   ]
  }
 ],
 "metadata": {
  "kernelspec": {
   "display_name": "Python 3",
   "language": "python",
   "name": "python3"
  },
  "language_info": {
   "codemirror_mode": {
    "name": "ipython",
    "version": 3
   },
   "file_extension": ".py",
   "mimetype": "text/x-python",
   "name": "python",
   "nbconvert_exporter": "python",
   "pygments_lexer": "ipython3",
   "version": "3.12.2"
  }
 },
 "nbformat": 4,
 "nbformat_minor": 2
}
