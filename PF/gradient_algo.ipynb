version https://git-lfs.github.com/spec/v1
oid sha256:177a028b27431b9497a5a9327b4caa9cfdd7d534c903080fa994be576096ca4e
size 1280454
