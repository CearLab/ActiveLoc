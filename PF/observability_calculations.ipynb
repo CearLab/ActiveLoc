{
 "cells": [
  {
   "cell_type": "code",
   "execution_count": 1,
   "metadata": {},
   "outputs": [],
   "source": [
    "import matplotlib.pyplot as plt\n",
    "import matplotlib.animation as animation\n",
    "import numpy as np\n",
    "import pandas as pd\n",
    "import scipy.stats as stats\n",
    "import scipy.linalg as linalg\n",
    "import os\n",
    "import time\n",
    "from lib.ParticleFilter import sample_normal_model, single_step_particle_filter, normal_model_pdf, single_step_particle_filter_measurement_window\n",
    "from utils.plotting import draw_ellipse, images_to_gif\n",
    "from utils.filesTools import get_exp_folder"
   ]
  },
  {
   "cell_type": "code",
   "execution_count": 2,
   "metadata": {},
   "outputs": [],
   "source": [
    "\n",
    "## setup params\n",
    "NUM_OF_BEACONS = 4\n",
    "NUM_OF_AGENTS = 1\n",
    "STATE_SIZE_2D = 2\n",
    "SINGLE_RANGE_MEASUREMENT_SIZE = 1\n",
    "RANGE_MEASUREMENT_SIZE = NUM_OF_BEACONS * SINGLE_RANGE_MEASUREMENT_SIZE * NUM_OF_AGENTS\n",
    "TOTAL_STATE_SIZE = NUM_OF_AGENTS * STATE_SIZE_2D + NUM_OF_BEACONS * STATE_SIZE_2D\n",
    "NOTE = 'single_beacon'\n",
    "sigma_transition_agent = 0.5\n",
    "sigma_transition_beacon = 0.3\n",
    "sigma_measurement = 0.1\n",
    "stepsize = 2\n",
    "n_steps = 150\n",
    "n_particles = 100\n",
    "# model definition\n",
    "cov_measurement = np.diag([sigma_measurement**2 for i in range(RANGE_MEASUREMENT_SIZE)])\n",
    "cov_transition_agent = [sigma_transition_agent**2 for i in range(NUM_OF_AGENTS*STATE_SIZE_2D)]\n",
    "cov_transition_agent = [0 for i in range(NUM_OF_AGENTS*STATE_SIZE_2D)]\n",
    "cov_transition_beacon = [sigma_transition_beacon**2 for i in range(NUM_OF_BEACONS*STATE_SIZE_2D)]\n",
    "# cov_transition_beacon = [0 for i in range(NUM_OF_BEACONS*STATE_SIZE_2D)]\n",
    "# cov_transition_beacon[0:6] = [sigma_transition_beacon**2]*6\n",
    "cov_transition = np.diag(cov_transition_agent + cov_transition_beacon)\n"
   ]
  },
  {
   "cell_type": "code",
   "execution_count": 3,
   "metadata": {},
   "outputs": [],
   "source": [
    "# state manger\n",
    "get_agent_index = lambda i: slice(i*STATE_SIZE_2D, i*STATE_SIZE_2D + STATE_SIZE_2D)\n",
    "get_beacon_index = lambda i: slice(STATE_SIZE_2D*NUM_OF_AGENTS + i*STATE_SIZE_2D, STATE_SIZE_2D*NUM_OF_AGENTS + i*STATE_SIZE_2D + STATE_SIZE_2D)\n",
    "get_agent_position = lambda x, i: x[get_agent_index(i)]\n",
    "get_beacon_postion = lambda x, j: x[get_beacon_index(j)]\n",
    "def state_to_agent_and_beacons_pos(x):\n",
    "    agents_pos = np.zeros((NUM_OF_AGENTS, STATE_SIZE_2D))\n",
    "    beacons_pos = np.zeros((NUM_OF_BEACONS, STATE_SIZE_2D))\n",
    "    for i in range(NUM_OF_AGENTS):\n",
    "        agents_pos[i] = get_agent_position(x, i)\n",
    "    for j in range(NUM_OF_BEACONS):\n",
    "        beacons_pos[j] = get_beacon_postion(x, j)\n",
    "    return agents_pos, beacons_pos\n",
    "def agent_and_beacons_pos_to_state(agents_pos, beacons_pos):\n",
    "    x = np.zeros(TOTAL_STATE_SIZE)\n",
    "    for i in range(NUM_OF_AGENTS):\n",
    "        x[get_agent_index(i)] = agents_pos[i]\n",
    "    for j in range(NUM_OF_BEACONS):\n",
    "        x[get_beacon_index(j)] = beacons_pos[j]\n",
    "    return x"
   ]
  },
  {
   "cell_type": "code",
   "execution_count": 4,
   "metadata": {},
   "outputs": [],
   "source": [
    "# functions for model\n",
    "propagate_state = lambda x, u: x + sample_normal_model(u, cov_transition)\n",
    "\n",
    "def calculate_true_range_meas(x):\n",
    "    z = np.zeros(RANGE_MEASUREMENT_SIZE)\n",
    "    for i in range(NUM_OF_AGENTS):\n",
    "        current_agent_position = x[get_agent_index(i)]\n",
    "        for j in range(NUM_OF_BEACONS):\n",
    "            current_beacon_position = x[get_beacon_index(j)]\n",
    "            z[i*NUM_OF_BEACONS + j] = np.linalg.norm(current_agent_position - current_beacon_position)\n",
    "    return z\n",
    "\n",
    "def measurements_model(x, cov = cov_measurement):\n",
    "    return calculate_true_range_meas(x) + sample_normal_model(np.zeros(RANGE_MEASUREMENT_SIZE), cov)\n",
    "\n",
    "measurements_likelihood = lambda z, x: normal_model_pdf(z, calculate_true_range_meas(x), cov_measurement)"
   ]
  },
  {
   "cell_type": "code",
   "execution_count": 5,
   "metadata": {},
   "outputs": [],
   "source": [
    "## test models  \n",
    "if 0:\n",
    "    x = np.array([0, 0, 1, 0, 2, 0, 3, 0, 4, 0])*100\n",
    "    u = np.zeros(TOTAL_STATE_SIZE)\n",
    "    print(measurements_model(x))\n",
    "    print(propagate_state(x, u))\n",
    "## test conversion functions\n",
    "if 0:\n",
    "    x = np.array([0, 0, 1, 1, 2, 2, 3, 3, 4, 4])\n",
    "    agents_pos, beacons_pos = state_to_agent_and_beacons_pos(x)\n",
    "    print(agents_pos, beacons_pos)\n",
    "    print(agent_and_beacons_pos_to_state(agents_pos, beacons_pos))"
   ]
  },
  {
   "cell_type": "code",
   "execution_count": 6,
   "metadata": {},
   "outputs": [],
   "source": [
    "## generate ground truth\n",
    "agent_position_0 = np.array([0,0])\n",
    "becons_1_position_0 = np.array([10,10])\n",
    "becons_2_position_0 = np.array([-10,10])\n",
    "becons_3_position_0 = np.array([10,-10])\n",
    "becons_4_position_0 = np.array([-10,-10])\n",
    "x_0 = agent_and_beacons_pos_to_state([agent_position_0], [becons_1_position_0, becons_2_position_0, becons_3_position_0, becons_4_position_0])\n",
    "\n",
    "#genrate u  commend vector\n",
    "u = (np.random.rand(TOTAL_STATE_SIZE, n_steps) - 0.5) * stepsize\n",
    "u = np.zeros((TOTAL_STATE_SIZE, n_steps))\n",
    "u[get_agent_index(0),:] = (np.random.rand(STATE_SIZE_2D, n_steps) - 0.5) * stepsize\n",
    "u[get_beacon_index(0),:] = (np.random.rand(STATE_SIZE_2D, n_steps) - 0.5) * stepsize/10\n",
    "u[get_beacon_index(1),:] = (np.random.rand(STATE_SIZE_2D, n_steps) - 0.5) * stepsize/10\n",
    "u[get_beacon_index(2),:] = (np.random.rand(STATE_SIZE_2D, n_steps) - 0.5) * stepsize/10\n",
    "u[get_beacon_index(3),:] = (np.random.rand(STATE_SIZE_2D, n_steps) - 0.5) * stepsize/10\n",
    "## create ground truth\n",
    "x = np.zeros((TOTAL_STATE_SIZE, n_steps))\n",
    "x[:,0] = x_0\n",
    "z = np.zeros((RANGE_MEASUREMENT_SIZE, n_steps))\n",
    "z[:,0] = measurements_model(x[:,0])\n",
    "for i in range(1, n_steps):\n",
    "    x[:,i] = propagate_state(x[:,i-1], u[:,i-1])\n",
    "    z[:,i] = measurements_model(x[:,i])\n",
    "\n",
    "## plot ground truth\n",
    "if 0:\n",
    "    fig, ax = plt.subplots()\n",
    "    ax.plot(x[0,:], x[1,:], 'r')\n",
    "    ax.plot(x[2,:], x[3,:], 'g')\n",
    "    ax.plot(x[4,:], x[5,:], 'b')\n",
    "    ax.plot(x[6,:], x[7,:], 'y')\n",
    "    ax.plot(x[8,:], x[9,:], 'm')\n",
    "    plt.show()\n"
   ]
  },
  {
   "cell_type": "code",
   "execution_count": 7,
   "metadata": {},
   "outputs": [
    {
     "name": "stdout",
     "output_type": "stream",
     "text": [
      "4\n",
      "(40, 10)\n"
     ]
    }
   ],
   "source": [
    "def calculate_linear_measurement_matrix(agent, beacon):\n",
    "    range = np.linalg.norm(agent - beacon)\n",
    "    H = np.zeros((1, 2*STATE_SIZE_2D))\n",
    "    H[0,0] = (agent[0] - beacon[0])/range\n",
    "    H[0,1] = (agent[1] - beacon[1])/range \n",
    "    H[0,2] = (beacon[0] - agent[0])/range\n",
    "    H[0,3] = (beacon[1] - agent[1])/range\n",
    "    return H\n",
    "\n",
    "def total_linear_measurement_matrix(x):\n",
    "    H = np.zeros((RANGE_MEASUREMENT_SIZE, TOTAL_STATE_SIZE))\n",
    "    for i in range(NUM_OF_AGENTS):\n",
    "        agent_position = get_agent_position(x, i)\n",
    "        for j in range(NUM_OF_BEACONS):\n",
    "            beacon_position = get_beacon_postion(x, j)\n",
    "            h = calculate_linear_measurement_matrix(agent_position, beacon_position)\n",
    "            H[i*NUM_OF_BEACONS + j, get_agent_index(i)] = h[0,0:2]\n",
    "            H[i*NUM_OF_BEACONS + j, get_beacon_index(j)] = h[0,2:4]\n",
    "    return H\n",
    "\n",
    "def calculate_observability_matrix(A,H):\n",
    "    n = A.shape[0]\n",
    "    m = H.shape[0]\n",
    "    O = np.zeros((n*m, n))  \n",
    "    O[0:m,0:n] = H\n",
    "    for i in range(1,n):\n",
    "        O[i*m:(i+1)*m,0:n] = O[(i-1)*m:i*m,0:n]@A\n",
    "    rank = np.linalg.matrix_rank(O)\n",
    "    return O, rank\n",
    "if 1:\n",
    "    # total_linear_measurement_matrix using ground truth\n",
    "    H = total_linear_measurement_matrix(x[:,0])\n",
    "    # print(H)\n",
    "\n",
    "    # observability matrix using ground truth\n",
    "    A = np.eye(TOTAL_STATE_SIZE)\n",
    "    O, rank = calculate_observability_matrix(A,H)\n",
    "    print(rank)\n",
    "    print(O.shape)\n",
    "\n",
    "\n"
   ]
  },
  {
   "cell_type": "code",
   "execution_count": 8,
   "metadata": {},
   "outputs": [
    {
     "name": "stdout",
     "output_type": "stream",
     "text": [
      "[[ 0.10407165 -0.26186798 -0.04119429 -0.38105402  0.08322275  0.31638967]\n",
      " [-0.45843252  0.24017114  0.08902525 -0.19487919  0.09691724  0.1009675 ]\n",
      " [-0.22902959 -0.03701082  0.04929043 -0.59403644 -0.50746126 -0.00406766]\n",
      " [-0.12533129  0.01531398 -0.00145948  0.01810323  0.68760125  0.42142483]\n",
      " [ 0.52971054 -0.09864909  0.57333904 -0.16966123  0.02133217  0.13558807]\n",
      " [-0.03279363  0.40339003  0.70355858  0.01651361  0.03502667 -0.0798341 ]\n",
      " [ 0.59362394  0.21475993 -0.33206549 -0.37657436  0.12514936 -0.02042942]\n",
      " [ 0.03111977  0.71679905 -0.20184594 -0.19039952  0.13884385 -0.23585159]\n",
      " [-0.25790813 -0.27497474  0.10163405 -0.50085804  0.40670978 -0.31295025]\n",
      " [-0.09645275  0.2532779  -0.0538031  -0.07507517 -0.22656979  0.73030741]]\n"
     ]
    },
    {
     "data": {
      "image/png": "[encoded data removed]",
      "text/plain": [
       "<Figure size 640x480 with 1 Axes>"
      ]
     },
     "metadata": {},
     "output_type": "display_data"
    }
   ],
   "source": [
    "# plot observability matrix rank over time:\n",
    "if 1:\n",
    "    rank_log = np.zeros(n_steps)\n",
    "    for i in range(n_steps):\n",
    "        H = total_linear_measurement_matrix(x[:,0])\n",
    "        O, rank = calculate_observability_matrix(A,H)\n",
    "        \n",
    "        rank_log[i] = rank\n",
    "    # print(O)\n",
    "    # calculate the eigenvalues of the observability matrix to find witch states are observable\n",
    "    eigvals, eigvecs = np.linalg.eig(O.T@O)\n",
    "    # print(eigvals)\n",
    "    # null space of the observability matrix\n",
    "    null_space = linalg.null_space(O)\n",
    "    print(null_space)\n",
    "    plt.plot(rank_log)\n",
    "    plt.xlabel('step')\n",
    "    \n",
    "    plt.ylabel('rank')\n",
    "    plt.show()"
   ]
  }
 ],
 "metadata": {
  "kernelspec": {
   "display_name": "Python 3",
   "language": "python",
   "name": "python3"
  },
  "language_info": {
   "codemirror_mode": {
    "name": "ipython",
    "version": 3
   },
   "file_extension": ".py",
   "mimetype": "text/x-python",
   "name": "python",
   "nbconvert_exporter": "python",
   "pygments_lexer": "ipython3",
   "version": "3.12.2"
  }
 },
 "nbformat": 4,
 "nbformat_minor": 2
}
